{
 "cells": [
  {
   "cell_type": "code",
   "execution_count": 4,
   "metadata": {},
   "outputs": [
    {
     "name": "stdout",
     "output_type": "stream",
     "text": [
      "Enter the numbers in comma separated values: 1,2,3,4,5\n",
      "List of numbers that the user has entered:  ['1', '2', '3', '4', '5']\n"
     ]
    }
   ],
   "source": [
    "\"\"\"program which accepts a sequence of comma-separated numbers from console\n",
    "and generate a list.\"\"\"\n",
    "\n",
    "numStr = input(\"Enter the numbers in comma separated values: \")\n",
    "numList = list(numStr.split(','))\n",
    "print(\"List of numbers that the user has entered: \",numList)"
   ]
  },
  {
   "cell_type": "code",
   "execution_count": null,
   "metadata": {
    "collapsed": true
   },
   "outputs": [],
   "source": []
  }
 ],
 "metadata": {
  "kernelspec": {
   "display_name": "Python 3",
   "language": "python",
   "name": "python3"
  },
  "language_info": {
   "codemirror_mode": {
    "name": "ipython",
    "version": 3
   },
   "file_extension": ".py",
   "mimetype": "text/x-python",
   "name": "python",
   "nbconvert_exporter": "python",
   "pygments_lexer": "ipython3",
   "version": "3.6.3"
  }
 },
 "nbformat": 4,
 "nbformat_minor": 2
}
